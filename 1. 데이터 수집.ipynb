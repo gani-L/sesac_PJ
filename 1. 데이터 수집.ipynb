{
 "cells": [
  {
   "cell_type": "code",
   "execution_count": 1,
   "id": "ef56cbde-7692-4b67-9eae-b763f67beaac",
   "metadata": {},
   "outputs": [],
   "source": [
    "# selenium의 webdriver를 사용하기 위한 import\n",
    "from selenium import webdriver\n",
    "\n",
    "# selenium으로 키를 조작하기 위한 import\n",
    "from selenium.webdriver.common.keys import Keys\n",
    "\n",
    "# 페이지 로딩을 기다리는데에 사용할 time 모듈 import\n",
    "import time\n",
    "\n",
    "from selenium.webdriver.common.by import By\n",
    "import numpy as np\n",
    "from selenium.webdriver.common.action_chains import ActionChains\n",
    "import os\n",
    "import requests\n",
    "import pandas as pd"
   ]
  },
  {
   "cell_type": "code",
   "execution_count": 1012,
   "id": "295f0d91-4cea-4ba7-acfd-b43bcbcd699b",
   "metadata": {},
   "outputs": [
    {
     "name": "stdout",
     "output_type": "stream",
     "text": [
      "중복가게\n",
      "중복아님\n"
     ]
    }
   ],
   "source": [
    "while True:\n",
    "    # 크롬드라이버 실행\n",
    "    driver = webdriver.Chrome()\n",
    "\n",
    "    # 크롬 드라이버에 url 주소 넣고 실행\n",
    "    driver.get('https://map.naver.com/p/search/%ED%99%8D%EB%8C%80%EB%A7%9B%EC%A7%91?c=14.00,0,0,0,dh')\n",
    "    time.sleep(3)\n",
    "\n",
    "    # 페이지가 완전히 로딩되도록 3초동안 기다림\n",
    "\n",
    "    # Switch to the iframe\n",
    "    iframe = driver.find_element(By.XPATH, '//*[@id=\"searchIframe\"]')\n",
    "    driver.switch_to.frame(iframe)\n",
    "\n",
    "    # 가게명을 찾아 변수에 저장 (xpath 이용방식)\n",
    "    shop_name_tab = driver.find_element(By.XPATH, '//*[@id=\"_pcmap_list_scroll_container\"]/ul/li[1]/div[1]/a/div/div/span[1]')\n",
    "    time.sleep(3)\n",
    "\n",
    "    shop_name = shop_name_tab.text\n",
    "    shop_name_tab.click()\n",
    "    time.sleep(1)\n",
    "\n",
    "    shop_folder_path = os.path.join(path_folder, shop_name)\n",
    "\n",
    "    # shop_name에서 공백 제거\n",
    "    shop_name_without_spaces = shop_name.replace(\" \", \"\")\n",
    "\n",
    "    # 중복 여부 확인 및 출력\n",
    "    if os.path.exists(shop_folder_path) or os.path.exists(os.path.join(path_folder, shop_name_without_spaces)):\n",
    "        print(\"중복가게\")\n",
    "        driver.quit()\n",
    "    else:\n",
    "        print(\"중복아님\")\n",
    "        break"
   ]
  },
  {
   "cell_type": "code",
   "execution_count": 1013,
   "id": "197dbfd1-0192-4233-b70a-68a7f04b888c",
   "metadata": {},
   "outputs": [],
   "source": [
    "driver.switch_to.default_content()\n",
    "\n",
    "iframe = driver.find_element(By.XPATH, '//*[@id=\"entryIframe\"]')\n",
    "driver.switch_to.frame(iframe)\n",
    "\n",
    "# 메타데이터를 찾아 변수에 저장 (xpath 이용방식)\n",
    "shop_meta_tab = driver.find_element(By.XPATH, '//*[@id=\"app-root\"]/div/div/div/div[2]/div[1]')\n",
    "shop_meta = shop_meta_tab.text\n",
    "\n",
    "menu_tabs = driver.find_elements(By.CSS_SELECTOR, 'div.flicking-camera  > a > span')\n",
    "\n",
    "photo_idx = np.argmax(np.array([t.text for t in menu_tabs]) == '사진')\n",
    "photo_menu = menu_tabs[photo_idx]\n",
    "photo_menu.click()\n",
    "time.sleep(3)\n",
    "\n",
    " # '내부' 탭으로 드래그 이동하기\n",
    "source_element = driver.find_elements(By.CSS_SELECTOR, 'div.place_fixed_subtab > div > div > div > div > span > a')[2]\n",
    "source_element\n",
    "\n",
    "# Create an ActionChains object\n",
    "actions = ActionChains(driver)\n",
    "\n",
    "# Perform the drag to the left action\n",
    "# Adjust the x_offset based on your requirement (negative values move to the left)\n",
    "x_offset = -50  # Adjust as needed\n",
    "actions.drag_and_drop_by_offset(source_element, x_offset, 0).perform()"
   ]
  },
  {
   "cell_type": "code",
   "execution_count": 1014,
   "id": "82e2dcf7-4aa7-4d20-9577-70caf91d4d60",
   "metadata": {},
   "outputs": [],
   "source": [
    "x_offset = -50  # Adjust as needed\n",
    "actions.drag_and_drop_by_offset(source_element, x_offset, 0).perform()"
   ]
  },
  {
   "cell_type": "code",
   "execution_count": 1015,
   "id": "4d055e20-5c16-4917-8f63-bef1fa99e46b",
   "metadata": {},
   "outputs": [
    {
     "name": "stdout",
     "output_type": "stream",
     "text": [
      "상곱창곱창,막창,양\n",
      "알림받기\n",
      "방문자리뷰 252블로그리뷰 84\n"
     ]
    }
   ],
   "source": [
    "detail_tabs = driver.find_elements(By.CSS_SELECTOR, 'div.flicking-camera > span > a')\n",
    "\n",
    "indoor_idx = np.argmax(np.array([t.text for t in detail_tabs]) == '내부')\n",
    "indoor_menu = detail_tabs[indoor_idx]\n",
    "indoor_menu.click()\n",
    "time.sleep(3)\n",
    "\n",
    "print(shop_meta)"
   ]
  },
  {
   "cell_type": "code",
   "execution_count": 1016,
   "id": "7d4d9c82-38c4-4888-a5f7-2976bfe36580",
   "metadata": {},
   "outputs": [],
   "source": [
    "# 이미지 저장\n",
    "\n",
    "interior_thumbnail = driver.find_elements(By.CSS_SELECTOR, \"a.place_thumb > img\")\n",
    "\n",
    "link_thumbnail = []\n",
    "\n",
    "for img in interior_thumbnail:\n",
    "\n",
    "    link_thumbnail.append(img.get_attribute('src')) \n",
    "\n",
    "# path_folder의 경로는 각자 저장할 폴더의 경로를 적어줄 것(ex.img_download)\n",
    "path_folder = r\"C:\\Users\\gani\\sesac3\\project1\\img_download3_hongdae\"\n",
    "\n",
    "if not os.path.isdir(path_folder):\n",
    "    os.mkdir(path_folder)\n",
    "\n",
    "# 이미지 다운로드 및 메타데이터 수집\n",
    "meta = []\n",
    "\n",
    "for i, link in enumerate(link_thumbnail):\n",
    "    response = requests.get(link)\n",
    "    if response.status_code == 200:\n",
    "        extension = os.path.splitext(link)[-1].lower()\n",
    "\n",
    "        # shop_name에서 공백 및 특수 문자 제거하여 폴더명 생성\n",
    "        folder_name = ''.join(e for e in shop_name if e.isalnum())\n",
    "\n",
    "        folder_path = os.path.join(path_folder, folder_name)\n",
    "\n",
    "        # Create folder if it doesn't exist\n",
    "        if not os.path.exists(folder_path):\n",
    "            os.mkdir(folder_path)\n",
    "\n",
    "        # 이미지 파일명 생성\n",
    "        image_name = f'{shop_name}_{i}.{extension}'\n",
    "        file_path = os.path.join(folder_path, image_name)\n",
    "\n",
    "        meta.append((i, file_path, link))\n",
    "        \n",
    "        with open(file_path, 'wb') as file:\n",
    "            file.write(response.content)\n",
    "\n",
    "# 메타데이터를 DataFrame으로 변환 및 CSV 파일로 저장\n",
    "\n",
    "meta.append((i, file_path, link, shop_meta))\n",
    "\n",
    "meta_df = pd.DataFrame(meta, columns=['Index', 'File Path', 'Image Link', 'Shop Meta'])\n",
    "meta_df.to_csv(os.path.join(path_folder, f'{folder_name}_meta.csv'), index=False)\n",
    "\n",
    "driver.quit()  # 작업이 끝나면 창을닫는다."
   ]
  },
  {
   "cell_type": "code",
   "execution_count": 1017,
   "id": "6c381e29-ea75-4e3d-a492-073f3a01a41a",
   "metadata": {},
   "outputs": [
    {
     "name": "stdout",
     "output_type": "stream",
     "text": [
      "CSV 파일 개수: 100\n"
     ]
    }
   ],
   "source": [
    "# CSV 파일 개수 세기\n",
    "csv_file_count = len([file for file in os.listdir(path_folder) if file.endswith(\".csv\")])\n",
    "  \n",
    "print(f\"CSV 파일 개수: {csv_file_count}\")"
   ]
  },
  {
   "cell_type": "code",
   "execution_count": null,
   "id": "3c8d19ee-7c37-4647-93c0-b4b32ffcb88f",
   "metadata": {},
   "outputs": [],
   "source": []
  },
  {
   "cell_type": "code",
   "execution_count": null,
   "id": "62c6787c-f8c1-4488-bca9-7faaaafe5dc3",
   "metadata": {},
   "outputs": [],
   "source": []
  }
 ],
 "metadata": {
  "kernelspec": {
   "display_name": "project1",
   "language": "python",
   "name": "project1"
  },
  "language_info": {
   "codemirror_mode": {
    "name": "ipython",
    "version": 3
   },
   "file_extension": ".py",
   "mimetype": "text/x-python",
   "name": "python",
   "nbconvert_exporter": "python",
   "pygments_lexer": "ipython3",
   "version": "3.9.18"
  }
 },
 "nbformat": 4,
 "nbformat_minor": 5
}
